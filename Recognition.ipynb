{
 "cells": [
  {
   "cell_type": "code",
   "execution_count": 107,
   "id": "c8ce53c2-4f2f-4575-8543-0a4d0a57df09",
   "metadata": {},
   "outputs": [
    {
     "name": "stdout",
     "output_type": "stream",
     "text": [
      "\u001b[34m\u001b[1mdetect: \u001b[0mweights=['/home/tlrkrwlsmd/yolov5/runs/train/exp2/weights/best.pt'], source=/home/tlrkrwlsmd/yolov5/samples/a2.PNG, data=data/coco128.yaml, imgsz=[640, 640], conf_thres=0.25, iou_thres=0.45, max_det=1000, device=1, view_img=False, save_txt=False, save_csv=False, save_conf=False, save_crop=True, nosave=False, classes=None, agnostic_nms=False, augment=False, visualize=False, update=False, project=runs/detect, name=exp, exist_ok=False, line_thickness=1, hide_labels=False, hide_conf=False, half=False, dnn=False, vid_stride=1\n",
      "\u001b[31m\u001b[1mrequirements:\u001b[0m Ultralytics requirement ['Pillow>=10.0.1'] not found, attempting AutoUpdate...\n",
      "\u001b[31mERROR: Ignored the following versions that require a different python version: 10.0.0 Requires-Python >=3.8; 10.0.1 Requires-Python >=3.8; 10.1.0 Requires-Python >=3.8\u001b[0m\u001b[31m\n",
      "\u001b[0m\u001b[31mERROR: Could not find a version that satisfies the requirement Pillow>=10.0.1 (from versions: 1.0, 1.1, 1.2, 1.3, 1.4, 1.5, 1.6, 1.7.0, 1.7.1, 1.7.2, 1.7.3, 1.7.4, 1.7.5, 1.7.6, 1.7.7, 1.7.8, 2.0.0, 2.1.0, 2.2.0, 2.2.1, 2.2.2, 2.3.0, 2.3.1, 2.3.2, 2.4.0, 2.5.0, 2.5.1, 2.5.2, 2.5.3, 2.6.0, 2.6.1, 2.6.2, 2.7.0, 2.8.0, 2.8.1, 2.8.2, 2.9.0, 3.0.0, 3.1.0rc1, 3.1.0, 3.1.1, 3.1.2, 3.2.0, 3.3.0, 3.3.1, 3.3.2, 3.3.3, 3.4.0, 3.4.1, 3.4.2, 4.0.0, 4.1.0, 4.1.1, 4.2.0, 4.2.1, 4.3.0, 5.0.0, 5.1.0, 5.2.0, 5.3.0, 5.4.0, 5.4.1, 6.0.0, 6.1.0, 6.2.0, 6.2.1, 6.2.2, 7.0.0, 7.1.0, 7.1.1, 7.1.2, 7.2.0, 8.0.0, 8.0.1, 8.1.0, 8.1.1, 8.1.2, 8.2.0, 8.3.0, 8.3.1, 8.3.2, 8.4.0, 9.0.0, 9.0.1, 9.1.0, 9.1.1, 9.2.0, 9.3.0, 9.4.0, 9.5.0)\u001b[0m\u001b[31m\n",
      "\u001b[0m\u001b[31mERROR: No matching distribution found for Pillow>=10.0.1\u001b[0m\u001b[31m\n",
      "\u001b[0m\u001b[31m\u001b[1mrequirements:\u001b[0m ❌ Command 'pip install --no-cache \"Pillow>=10.0.1\"  ' returned non-zero exit status 1.\n",
      "YOLOv5 🚀 v7.0-240-g84ec8b5 Python-3.7.7 torch-1.13.1+cu117 CUDA:1 (NVIDIA RTX A5000, 24256MiB)\n",
      "\n",
      "Fusing layers... \n",
      "Model summary: 157 layers, 7018216 parameters, 0 gradients\n",
      "image 1/1 /home/tlrkrwlsmd/yolov5/samples/a2.PNG: 384x640 1 name, 1 number, 1 information, 17.1ms\n",
      "Speed: 0.4ms pre-process, 17.1ms inference, 2.1ms NMS per image at shape (1, 3, 640, 640)\n",
      "Results saved to \u001b[1mruns/detect/exp11\u001b[0m\n"
     ]
    }
   ],
   "source": [
    "# detection 수행하는 부분\n",
    "# 이 부분은 가볍게 detection 결과와 crop된 이미지가 잘 저장되는 지 확인하는 부분이다.\n",
    "!python3 detect.py --weights /home/tlrkrwlsmd/yolov5/runs/train/exp2/weights/best.pt --source /home/tlrkrwlsmd/yolov5/samples/a2.PNG --save-crop --device 1"
   ]
  },
  {
   "cell_type": "markdown",
   "id": "ab8f040e-7b7b-4591-9834-f68360352fd6",
   "metadata": {
    "tags": []
   },
   "source": [
    "#### EasyOCR을 통한 텍스트 인식 부분\n",
    "1. Detection 이후 인식이 되었다면 crop 디렉토리 생성.\n",
    "2. 각 클래스별 crop 결과를 바탕으로 텍스트 인식 시작\n",
    "3. 이름과 전화번호 중 하나라도 인식이 안 된다면 Detection failed 메세지를 뱉어낸다."
   ]
  },
  {
   "cell_type": "code",
   "execution_count": 108,
   "id": "a22d112b-82d3-4f2d-9eb0-8bb2efa73cef",
   "metadata": {},
   "outputs": [
    {
     "name": "stdout",
     "output_type": "stream",
     "text": [
      "{'information': '/home/tlrkrwlsmd/yolov5/runs/detect/exp11/crops/information/a2.jpg', 'number': '/home/tlrkrwlsmd/yolov5/runs/detect/exp11/crops/number/a2.jpg', 'name': '/home/tlrkrwlsmd/yolov5/runs/detect/exp11/crops/name/a2.jpg'}\n",
      "detection success\n"
     ]
    }
   ],
   "source": [
    "import os\n",
    "import pandas as pd\n",
    "\n",
    "# detect 하위 dir 경로 및 해당 dir name (concat)\n",
    "subfolders = pd.DataFrame([f.path for f in os.scandir('/home/tlrkrwlsmd/yolov5/runs/detect/') if f.is_dir()], columns=['dir_path'])\n",
    "subfolders_nm = pd.DataFrame([f.name for f in os.scandir('/home/tlrkrwlsmd/yolov5/runs/detect/') if f.is_dir()], columns=['dir_name'])\n",
    "subfolders_frm = pd.concat([subfolders, subfolders_nm], axis=1)\n",
    "\n",
    "# checkpoints dir 제거(사용할 최종 data) : sub_exp_frm\n",
    "sub_exp_frm = subfolders_frm.loc[~subfolders_frm.dir_name.str.contains('check'), :]\n",
    "\n",
    "# exp 뒤의 숫자가 가장 큰 dir 찾기 (가장 최신 detection) : new_dir\n",
    "new_idx = sub_exp_frm.dir_name.str[3:].replace('', 0).astype(int).argmax()  # 해당 dir 있는 index number\n",
    "new_dir = sub_exp_frm.iloc[new_idx, 0]\n",
    "\n",
    "# 결과 저장 리스트\n",
    "label_list = []\n",
    "path_list = []\n",
    "\n",
    "# 파일경로 저장할 딕셔너리\n",
    "file_paths_dict = {'information': None, 'number': None, 'name': None}\n",
    "if \"crops\" in os.listdir(new_dir):\n",
    "    crops_dir = os.path.join(new_dir, \"crops\")\n",
    "    for class_dir in os.listdir(crops_dir):\n",
    "        class_path = os.path.join(crops_dir, class_dir)\n",
    "        if os.path.isdir(class_path):\n",
    "            for filename in os.listdir(class_path):\n",
    "                if filename.endswith(\".jpg\"):\n",
    "                    label_nm = class_dir  # 클래스 디렉터리 이름을 레이블로 사용\n",
    "                    crop_img_path = os.path.join(class_path, filename)\n",
    "\n",
    "                    label_list.append(label_nm)\n",
    "                    path_list.append(crop_img_path)\n",
    "\n",
    "                    # 각 클래스에 해당하는 딕셔너리의 키에 이미지 경로 추가\n",
    "                    if label_nm == 'name':\n",
    "                        file_paths_dict['name'] = crop_img_path\n",
    "                    elif label_nm == 'number':\n",
    "                        file_paths_dict['number'] = crop_img_path\n",
    "                    elif label_nm == 'information':\n",
    "                        file_paths_dict['information'] = crop_img_path\n",
    "\n",
    "print(file_paths_dict)\n",
    "\n",
    "# 'name', 'number', 'information' 중 모두가 검출되었는지 확인\n",
    "if file_paths_dict['name'] and file_paths_dict['number'] and file_paths_dict['information']:\n",
    "    print(\"detection success\")\n",
    "else:\n",
    "    if not file_paths_dict['name']:\n",
    "        print(\"Name detection failed\")\n",
    "    if not file_paths_dict['number']:\n",
    "        print(\"Number detection failed\")\n",
    "    if not file_paths_dict['information']:\n",
    "        print(\"Information detection failed\")\n",
    "    if not file_paths_dict['name'] and not file_paths_dict['number']:\n",
    "        print(\"Name, Number detection failed\")"
   ]
  },
  {
   "cell_type": "code",
   "execution_count": 109,
   "id": "2f423ec1-33e7-43ed-8569-d33d9ba90826",
   "metadata": {},
   "outputs": [
    {
     "name": "stdout",
     "output_type": "stream",
     "text": [
      "[([[6, 10], [46, 10], [46, 34], [6, 34]], '사원', 0.9999983141264758)]\n",
      "[([[11, 11], [131, 11], [131, 27], [11, 27]], '+82.10.8848.2705', 0.868036998836037)]\n",
      "[([[10, 16], [104, 16], [104, 48], [10, 48]], '김 선준', 0.8028175234794617)]\n",
      "Name: 김 선준\n",
      "Number: +82.10.8848.2705\n",
      "Information: 사원\n"
     ]
    }
   ],
   "source": [
    "import easyocr\n",
    "from PIL import Image\n",
    "from PIL.Image import Transpose\n",
    "import numpy as np\n",
    "import os\n",
    "\n",
    "reader = easyocr.Reader(['ko', 'en'], gpu=True)\n",
    "\n",
    "name_text = \"\"\n",
    "number_text = \"\"\n",
    "information_text = \"\"\n",
    "\n",
    "\n",
    "for key, file_path in file_paths_dict.items():\n",
    "    if file_path is not None and os.path.exists(file_path):\n",
    "        image = Image.open(file_path)\n",
    "        result = reader.readtext(image)\n",
    "        print(result)\n",
    "        # EasyOCR 상에서 맨 뒤의 값은 내부 유사도를 의미\n",
    "        # 정확한 Recognition이 진행되면 유사도 값은 높게, 그렇지 않으면 낮은 값으로 나오게 된다.\n",
    "        thres = 0.5\n",
    "        if result[0][2] < thres:\n",
    "            image = np.array(image.transpose(Transpose.ROTATE_180))\n",
    "            result = reader.readtext(image)\n",
    "        if key == 'name':\n",
    "            name_text = result\n",
    "        elif key == 'number':\n",
    "            number_text = result\n",
    "        elif key == 'information':  \n",
    "            information_text = result\n",
    "    else:\n",
    "        print(f\"Error: '{key}' 키에 대한 유효한 이미지 파일이 없습니다.\")\n",
    "\n",
    "# 'name'과 'number'가 없는 경우에 메시지 출력\n",
    "if not name_text:\n",
    "    print(\"Error: 'name' 키를 인식하지 못했습니다.\")\n",
    "if not number_text:\n",
    "    print(\"Error: 'number' 키를 인식하지 못했습니다.\")\n",
    "else:\n",
    "    print(\"Name:\", name_text[0][1])\n",
    "    print(\"Number:\", number_text[0][1])\n",
    "    if information_text:\n",
    "        print(\"Information:\", information_text[0][1])"
   ]
  },
  {
   "cell_type": "code",
   "execution_count": 110,
   "id": "6b982f38-23fd-4128-9142-6750652dabe5",
   "metadata": {
    "tags": []
   },
   "outputs": [
    {
     "name": "stdout",
     "output_type": "stream",
     "text": [
      "[([[6, 10], [46, 10], [46, 34], [6, 34]], '사원', 0.9999983141264758)]\n",
      "[([[11, 11], [131, 11], [131, 27], [11, 27]], '+82.10.8848.2705', 0.8681945200896913)]\n",
      "[([[10, 16], [104, 16], [104, 48], [10, 48]], '김 선준', 0.8018341064453125)]\n",
      "Name: 김 선준\n",
      "Number: +82.10.8848.2705\n",
      "Information: 사원\n"
     ]
    }
   ],
   "source": [
    "import easyocr\n",
    "from PIL import Image\n",
    "import numpy as np\n",
    "import os\n",
    "\n",
    "reader = easyocr.Reader(['ko', 'en'], gpu=True)\n",
    "\n",
    "name_text = \"\"\n",
    "number_text = \"\"\n",
    "information_text = \"\"\n",
    "\n",
    "for key, file_path in file_paths_dict.items():\n",
    "    if file_path is not None and os.path.exists(file_path):\n",
    "        image = Image.open(file_path)\n",
    "        \n",
    "        # 이미지를 최대 3번까지 90도씩 돌려가며 OCR을 시도\n",
    "        for _ in range(3):\n",
    "            result = reader.readtext(np.array(image))  # NumPy 배열로 변환하여 easyocr에 전달\n",
    "            print(result)\n",
    "            thres = 0.7 if key == 'number' else 0.5  # 번호의 경우에만 thres 값을 높임\n",
    "            if result[0][2] >= thres:\n",
    "                break  # 인식 성공 시 루프 종료\n",
    "            else:\n",
    "                # 이미지를 90도 회전\n",
    "                image = image.rotate(90, expand=True)\n",
    "\n",
    "        if key == 'name':\n",
    "            name_text = ''.join([item[1] for item in result])\n",
    "            if len(name_text) >= 2 and len(name_text) <= 4:\n",
    "                break\n",
    "        elif key == 'number':\n",
    "            number_text = result[0][1]\n",
    "        elif key == 'information':  \n",
    "            information_text = ''.join([item[1] for item in result])\n",
    "            if len(information_text) == 1:  # 한 자리일 때\n",
    "                for _ in range(3):\n",
    "                    result = reader.readtext(np.array(image))\n",
    "                    information_text += result[0][1]\n",
    "                    if len(information_text) >= 2 and len(information_text) <= 4:\n",
    "                        break\n",
    "                    else:\n",
    "                        image = image.rotate(90, expand=True)\n",
    "    else:\n",
    "        print(f\"Error: '{key}' 키에 대한 유효한 이미지 파일이 없습니다.\")\n",
    "\n",
    "# 'name'과 'number'가 없는 경우에 메시지 출력\n",
    "if not name_text:\n",
    "    print(\"Error: 'name' 키를 인식하지 못했습니다.\")\n",
    "if not number_text:\n",
    "    print(\"Error: 'number' 키를 인식하지 못했습니다.\")\n",
    "else:\n",
    "    print(\"Name:\", name_text)\n",
    "    print(\"Number:\", number_text)\n",
    "    if information_text:\n",
    "        print(\"Information:\", information_text)"
   ]
  },
  {
   "cell_type": "code",
   "execution_count": 113,
   "id": "332b5fca-e490-47af-8d1e-087d9080e7ba",
   "metadata": {},
   "outputs": [
    {
     "name": "stdout",
     "output_type": "stream",
     "text": [
      "김선준\n",
      "Name good\n",
      "\n",
      "+821088482705\n",
      "Number good\n",
      "\n",
      "사원\n",
      "Information good\n"
     ]
    }
   ],
   "source": [
    "# recognition_test\n",
    "import os\n",
    "\n",
    "# OCR 검증과정\n",
    "\n",
    "# 이름 검증 - 각종 문자열 및 공백 제거\n",
    "cleaned_name_text = ''.join(char for char in name_text if char.isalnum())\n",
    "\n",
    "result_directory = '/home/tlrkrwlsmd/yolov5/result_txt'\n",
    "\n",
    "# 각 디렉토리 경로 생성\n",
    "name_directory = os.path.join(result_directory, 'name')\n",
    "number_directory = os.path.join(result_directory, 'number')\n",
    "information_directory = os.path.join(result_directory, 'information')\n",
    "\n",
    "# 디렉토리 생성\n",
    "os.makedirs(name_directory, exist_ok=True)\n",
    "os.makedirs(number_directory, exist_ok=True)\n",
    "os.makedirs(information_directory, exist_ok=True)\n",
    "\n",
    "if 2 <= len(cleaned_name_text) <= 4:\n",
    "    with open(os.path.join(name_directory, 'name_text_result.txt'), 'w', encoding='utf-8') as name_file:\n",
    "        name_file.write(cleaned_name_text)\n",
    "    print(cleaned_name_text)\n",
    "    print(\"Name good\")\n",
    "else:\n",
    "    print(cleaned_name_text)\n",
    "    print(\"Name not good\")\n",
    "print()\n",
    "\n",
    "# 번호 검증\n",
    "cleaned_number_text = ''.join(char for char in number_text if char.isnumeric() or char == '+')\n",
    "\n",
    "# 길이가 11자리이고 010으로 시작하거나, 길이가 13자리이고 +82로 시작하는 경우에 \"OK\" 출력\n",
    "if (len(cleaned_number_text) == 11 and cleaned_number_text.startswith('010')) or (len(cleaned_number_text) == 13 and cleaned_number_text.startswith('+82')):\n",
    "    with open(os.path.join(number_directory, 'number_text_result.txt'), 'w', encoding='utf-8') as number_file:\n",
    "        number_file.write(cleaned_number_text)\n",
    "    print(cleaned_number_text)\n",
    "    print(\"Number good\")\n",
    "else:\n",
    "    print(cleaned_number_text)\n",
    "    print(\"Number not good\")\n",
    "\n",
    "print()\n",
    "\n",
    "# 정보 검증 - 각종 문자열 및 공백 제거\n",
    "cleaned_information_text = ''.join(char for char in information_text if char.isalnum())\n",
    "if cleaned_information_text:  # 추가: 정보가 비어있지 않은 경우에만 파일 생성\n",
    "    with open(os.path.join(information_directory, 'information_text_result.txt'), 'w', encoding='utf-8') as info_file:\n",
    "        info_file.write(cleaned_information_text)\n",
    "    print(cleaned_information_text)\n",
    "    print(\"Information good\")\n",
    "else:\n",
    "    print(\"Information not good\")"
   ]
  },
  {
   "cell_type": "code",
   "execution_count": null,
   "id": "2d4e3ae4-c2e4-4fb6-860c-287f92f04fab",
   "metadata": {},
   "outputs": [],
   "source": [
    "# from PIL import Image\n",
    "# import matplotlib.pyplot as plt\n",
    "\n",
    "# # 이미지 파일 경로들을 리스트에 저장\n",
    "# image_paths = ['/home/tlrkrwlsmd/yolov5/runs/detect/exp8/business_Card_test.png',\n",
    "#                # '/home/tlrkrwlsmd/yolov5/runs/detect/exp8/a2.PNG',\n",
    "#                # '/home/tlrkrwlsmd/yolov5/runs/detect/exp8/a3.PNG',\n",
    "#                # '/home/tlrkrwlsmd/yolov5/runs/detect/exp8/a6.PNG',\n",
    "#                # '/home/tlrkrwlsmd/yolov5/runs/detect/exp8/a7.PNG',\n",
    "#                # '/home/tlrkrwlsmd/yolov5/runs/detect/exp8/a8.PNG',\n",
    "#                # '/home/tlrkrwlsmd/yolov5/runs/detect/exp8/a9.PNG',\n",
    "#                # '/home/tlrkrwlsmd/yolov5/runs/detect/exp8/a10.PNG']\n",
    "\n",
    "# # 이미지를 subplot으로 표시할 행과 열의 수 설정\n",
    "# rows = 2\n",
    "# cols = 4\n",
    "\n",
    "# # subplot 생성\n",
    "# fig, axes = plt.subplots(rows, cols, figsize=(12, 6))\n",
    "\n",
    "# # 이미지를 읽어서 subplot에 표시\n",
    "# for i, ax in enumerate(axes.flat):\n",
    "#     # 이미지 불러오기\n",
    "#     img_path = image_paths[i]\n",
    "#     img = Image.open(img_path)\n",
    "\n",
    "#     # 이미지 표시\n",
    "#     ax.imshow(img)\n",
    "#     ax.axis('off')  # 좌표 축 숨김\n",
    "#     ax.set_title(f'Image {i+1}')  # 각 subplot에 제목 추가\n",
    "\n",
    "# # 레이아웃 조정\n",
    "# plt.tight_layout()\n",
    "\n",
    "# # 이미지 저장\n",
    "# plt.savefig('subplot_images.png', bbox_inches='tight', pad_inches=0.1)\n",
    "\n",
    "# # 그래프 표시\n",
    "# plt.show()"
   ]
  },
  {
   "cell_type": "code",
   "execution_count": 105,
   "id": "a16c9a52-9327-41aa-8c5d-6cad7c042147",
   "metadata": {
    "tags": []
   },
   "outputs": [
    {
     "data": {
      "text/plain": [
       "'/home/tlrkrwlsmd/yolov5'"
      ]
     },
     "execution_count": 105,
     "metadata": {},
     "output_type": "execute_result"
    }
   ],
   "source": [
    "pwd"
   ]
  },
  {
   "cell_type": "code",
   "execution_count": null,
   "id": "dc58e831-ebe1-4912-a624-612cbeb91628",
   "metadata": {},
   "outputs": [],
   "source": []
  },
  {
   "cell_type": "code",
   "execution_count": null,
   "id": "a9c25fe9-3a7c-4a48-b2da-9ca187dd1e01",
   "metadata": {},
   "outputs": [],
   "source": []
  },
  {
   "cell_type": "code",
   "execution_count": null,
   "id": "84fbc6fc-d27c-4859-8a3a-c3662368fe0f",
   "metadata": {
    "tags": []
   },
   "outputs": [],
   "source": []
  }
 ],
 "metadata": {
  "kernelspec": {
   "display_name": "Python 3 (ipykernel)",
   "language": "python",
   "name": "python3"
  },
  "language_info": {
   "codemirror_mode": {
    "name": "ipython",
    "version": 3
   },
   "file_extension": ".py",
   "mimetype": "text/x-python",
   "name": "python",
   "nbconvert_exporter": "python",
   "pygments_lexer": "ipython3",
   "version": "3.7.7"
  }
 },
 "nbformat": 4,
 "nbformat_minor": 5
}
