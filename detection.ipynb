{
 "cells": [
  {
   "cell_type": "code",
   "execution_count": 15,
   "id": "c8ce53c2-4f2f-4575-8543-0a4d0a57df09",
   "metadata": {},
   "outputs": [
    {
     "name": "stdout",
     "output_type": "stream",
     "text": [
      "\u001b[34m\u001b[1mdetect: \u001b[0mweights=['/home/tlrkrwlsmd/yolov5/runs/train/exp/weights/best.pt'], source=/home/tlrkrwlsmd/yolov5/samples/ASDF3.jpg, data=data/coco128.yaml, imgsz=[640, 640], conf_thres=0.25, iou_thres=0.45, max_det=1000, device=1, view_img=False, save_txt=False, save_csv=False, save_conf=False, save_crop=True, nosave=False, classes=None, agnostic_nms=False, augment=False, visualize=False, update=False, project=runs/detect, name=exp, exist_ok=False, line_thickness=1, hide_labels=False, hide_conf=False, half=False, dnn=False, vid_stride=1\n",
      "\u001b[31m\u001b[1mrequirements:\u001b[0m Ultralytics requirement ['Pillow>=10.0.1'] not found, attempting AutoUpdate...\n",
      "\u001b[31mERROR: Ignored the following versions that require a different python version: 10.0.0 Requires-Python >=3.8; 10.0.1 Requires-Python >=3.8; 10.1.0 Requires-Python >=3.8\u001b[0m\u001b[31m\n",
      "\u001b[0m\u001b[31mERROR: Could not find a version that satisfies the requirement Pillow>=10.0.1 (from versions: 1.0, 1.1, 1.2, 1.3, 1.4, 1.5, 1.6, 1.7.0, 1.7.1, 1.7.2, 1.7.3, 1.7.4, 1.7.5, 1.7.6, 1.7.7, 1.7.8, 2.0.0, 2.1.0, 2.2.0, 2.2.1, 2.2.2, 2.3.0, 2.3.1, 2.3.2, 2.4.0, 2.5.0, 2.5.1, 2.5.2, 2.5.3, 2.6.0, 2.6.1, 2.6.2, 2.7.0, 2.8.0, 2.8.1, 2.8.2, 2.9.0, 3.0.0, 3.1.0rc1, 3.1.0, 3.1.1, 3.1.2, 3.2.0, 3.3.0, 3.3.1, 3.3.2, 3.3.3, 3.4.0, 3.4.1, 3.4.2, 4.0.0, 4.1.0, 4.1.1, 4.2.0, 4.2.1, 4.3.0, 5.0.0, 5.1.0, 5.2.0, 5.3.0, 5.4.0, 5.4.1, 6.0.0, 6.1.0, 6.2.0, 6.2.1, 6.2.2, 7.0.0, 7.1.0, 7.1.1, 7.1.2, 7.2.0, 8.0.0, 8.0.1, 8.1.0, 8.1.1, 8.1.2, 8.2.0, 8.3.0, 8.3.1, 8.3.2, 8.4.0, 9.0.0, 9.0.1, 9.1.0, 9.1.1, 9.2.0, 9.3.0, 9.4.0, 9.5.0)\u001b[0m\u001b[31m\n",
      "\u001b[0m\u001b[31mERROR: No matching distribution found for Pillow>=10.0.1\u001b[0m\u001b[31m\n",
      "\u001b[0m\u001b[31m\u001b[1mrequirements:\u001b[0m ❌ Command 'pip install --no-cache \"Pillow>=10.0.1\"  ' returned non-zero exit status 1.\n",
      "YOLOv5 🚀 v7.0-240-g84ec8b5 Python-3.7.7 torch-1.13.1+cu117 CUDA:1 (NVIDIA RTX A5000, 24256MiB)\n",
      "\n",
      "Fusing layers... \n",
      "Model summary: 157 layers, 7018216 parameters, 0 gradients\n",
      "image 1/1 /home/tlrkrwlsmd/yolov5/samples/ASDF3.jpg: 640x512 1 name, 1 information, 18.2ms\n",
      "Speed: 0.5ms pre-process, 18.2ms inference, 1.9ms NMS per image at shape (1, 3, 640, 640)\n",
      "Results saved to \u001b[1mruns/detect/exp2\u001b[0m\n"
     ]
    }
   ],
   "source": [
    "!python3 detect.py --weights /home/tlrkrwlsmd/yolov5/runs/train/exp/weights/best.pt --source /home/tlrkrwlsmd/yolov5/samples/ASDF3.jpg --save-crop --device 1"
   ]
  },
  {
   "cell_type": "code",
   "execution_count": null,
   "id": "1fd2aa0a-4fc5-4b96-a7ce-dc75cd51a3c3",
   "metadata": {
    "tags": []
   },
   "outputs": [],
   "source": [
    "!python3 val.py --weights /home/tlrkrwlsmd/yolov5/runs/train/exp/weights/best.pt --data /home/tlrkrwlsmd/yolov5/cfg.yaml --device 0 --img 640 --verbose"
   ]
  },
  {
   "cell_type": "code",
   "execution_count": null,
   "id": "ffafa87b-2276-40f7-af5d-e03935b14731",
   "metadata": {
    "tags": []
   },
   "outputs": [],
   "source": [
    "!python3 val.py --weights /home/tlrkrwlsmd/yolov5/runs/train/exp8/weights/best.pt --data /home/tlrkrwlsmd/yolov5/cfg.yaml --device 0 --img 640 --verbose"
   ]
  },
  {
   "cell_type": "code",
   "execution_count": 8,
   "id": "a22d112b-82d3-4f2d-9eb0-8bb2efa73cef",
   "metadata": {},
   "outputs": [
    {
     "name": "stdout",
     "output_type": "stream",
     "text": [
      "{'information': '/home/tlrkrwlsmd/yolov5/runs/detect/exp7/crops/information/ASDF.jpg', 'number': '/home/tlrkrwlsmd/yolov5/runs/detect/exp7/crops/number/ASDF.jpg', 'name': '/home/tlrkrwlsmd/yolov5/runs/detect/exp7/crops/name/ASDF.jpg'}\n",
      "detection success\n"
     ]
    }
   ],
   "source": [
    "import os\n",
    "import pandas as pd\n",
    "\n",
    "# detect 하위 dir 경로 및 해당 dir name (concat)\n",
    "subfolders = pd.DataFrame([f.path for f in os.scandir('/home/tlrkrwlsmd/yolov5/runs/detect/') if f.is_dir()], columns=['dir_path'])\n",
    "subfolders_nm = pd.DataFrame([f.name for f in os.scandir('/home/tlrkrwlsmd/yolov5/runs/detect/') if f.is_dir()], columns=['dir_name'])\n",
    "subfolders_frm = pd.concat([subfolders, subfolders_nm], axis=1)\n",
    "\n",
    "# checkpoints dir 제거(사용할 최종 data) : sub_exp_frm\n",
    "sub_exp_frm = subfolders_frm.loc[~subfolders_frm.dir_name.str.contains('check'), :]\n",
    "\n",
    "# exp 뒤의 숫자가 가장 큰 dir 찾기 (가장 최신 detection) : new_dir\n",
    "new_idx = sub_exp_frm.dir_name.str[3:].replace('', 0).astype(int).argmax()  # 해당 dir 있는 index number\n",
    "new_dir = sub_exp_frm.iloc[new_idx, 0]\n",
    "\n",
    "# 결과 저장 리스트\n",
    "label_list = []\n",
    "path_list = []\n",
    "\n",
    "# 파일경로 저장할 딕셔너리\n",
    "file_paths_dict = {'information': None, 'number': None, 'name': None}\n",
    "if \"crops\" in os.listdir(new_dir):\n",
    "    crops_dir = os.path.join(new_dir, \"crops\")\n",
    "    for class_dir in os.listdir(crops_dir):\n",
    "        class_path = os.path.join(crops_dir, class_dir)\n",
    "        if os.path.isdir(class_path):\n",
    "            for filename in os.listdir(class_path):\n",
    "                if filename.endswith(\".jpg\"):\n",
    "                    label_nm = class_dir  # 클래스 디렉터리 이름을 레이블로 사용\n",
    "                    crop_img_path = os.path.join(class_path, filename)\n",
    "\n",
    "                    label_list.append(label_nm)\n",
    "                    path_list.append(crop_img_path)\n",
    "\n",
    "                    # 각 클래스에 해당하는 딕셔너리의 키에 이미지 경로 추가\n",
    "                    if label_nm == 'name':\n",
    "                        file_paths_dict['name'] = crop_img_path\n",
    "                    elif label_nm == 'number':\n",
    "                        file_paths_dict['number'] = crop_img_path\n",
    "                    elif label_nm == 'information':\n",
    "                        file_paths_dict['information'] = crop_img_path\n",
    "\n",
    "print(file_paths_dict)\n",
    "\n",
    "# 'name', 'number', 'information' 중 모두가 검출되었는지 확인\n",
    "if file_paths_dict['name'] and file_paths_dict['number'] and file_paths_dict['information']:\n",
    "    print(\"detection success\")\n",
    "else:\n",
    "    if not file_paths_dict['name']:\n",
    "        print(\"Name detection failed\")\n",
    "    if not file_paths_dict['number']:\n",
    "        print(\"Number detection failed\")\n",
    "    if not file_paths_dict['information']:\n",
    "        print(\"Information detection failed\")\n",
    "    if not file_paths_dict['name'] and not file_paths_dict['number']:\n",
    "        print(\"Name, Number detection failed\")"
   ]
  },
  {
   "cell_type": "code",
   "execution_count": 9,
   "id": "2f423ec1-33e7-43ed-8569-d33d9ba90826",
   "metadata": {},
   "outputs": [
    {
     "name": "stderr",
     "output_type": "stream",
     "text": [
      "/home/tlrkrwlsmd/.local/lib/python3.7/site-packages/tqdm/auto.py:21: TqdmWarning: IProgress not found. Please update jupyter and ipywidgets. See https://ipywidgets.readthedocs.io/en/stable/user_install.html\n",
      "  from .autonotebook import tqdm as notebook_tqdm\n"
     ]
    },
    {
     "name": "stdout",
     "output_type": "stream",
     "text": [
      "Name: 현\n",
      "Number: 5510\n"
     ]
    }
   ],
   "source": [
    "import easyocr\n",
    "from PIL import Image\n",
    "import os\n",
    "\n",
    "reader = easyocr.Reader(['ko', 'en'], gpu=True)\n",
    "\n",
    "name_text = \"\"\n",
    "number_text = \"\"\n",
    "information_text = \"\"\n",
    "\n",
    "\n",
    "for key, file_path in file_paths_dict.items():\n",
    "    if file_path is not None and os.path.exists(file_path):\n",
    "        image = Image.open(file_path)\n",
    "        result = reader.readtext(image)\n",
    "\n",
    "        if key == 'name':\n",
    "            name_text = result\n",
    "        elif key == 'number':\n",
    "            number_text = result\n",
    "        elif key == 'information':  # 이 부분을 수정\n",
    "            information_text = result\n",
    "    else:\n",
    "        print(f\"Error: '{key}' 키에 대한 유효한 이미지 파일이 없습니다.\")\n",
    "\n",
    "# 'name'과 'number'가 없는 경우에 메시지 출력\n",
    "if not name_text:\n",
    "    print(\"Error: 'name' 키를 인식하지 못했습니다.\")\n",
    "if not number_text:\n",
    "    print(\"Error: 'number' 키를 인식하지 못했습니다.\")\n",
    "else:\n",
    "    print(\"Name:\", name_text[0][1])\n",
    "    print(\"Number:\", number_text[0][1])\n",
    "    if information_text:\n",
    "        print(\"Information:\", information_text[0][1])"
   ]
  },
  {
   "cell_type": "code",
   "execution_count": 10,
   "id": "332b5fca-e490-47af-8d1e-087d9080e7ba",
   "metadata": {},
   "outputs": [
    {
     "name": "stdout",
     "output_type": "stream",
     "text": [
      "현\n",
      "Name not good\n",
      "\n",
      "5510\n",
      "Number not good\n",
      "\n"
     ]
    },
    {
     "ename": "NameError",
     "evalue": "name 'cleaned_information_text' is not defined",
     "output_type": "error",
     "traceback": [
      "\u001b[0;31m---------------------------------------------------------------------------\u001b[0m",
      "\u001b[0;31mNameError\u001b[0m                                 Traceback (most recent call last)",
      "\u001b[0;32m/tmp/ipykernel_1947/624535916.py\u001b[0m in \u001b[0;36m<module>\u001b[0;34m\u001b[0m\n\u001b[1;32m     32\u001b[0m     \u001b[0mprint\u001b[0m\u001b[0;34m(\u001b[0m\u001b[0;34m\"Information good\"\u001b[0m\u001b[0;34m)\u001b[0m\u001b[0;34m\u001b[0m\u001b[0;34m\u001b[0m\u001b[0m\n\u001b[1;32m     33\u001b[0m \u001b[0;32melse\u001b[0m\u001b[0;34m:\u001b[0m\u001b[0;34m\u001b[0m\u001b[0;34m\u001b[0m\u001b[0m\n\u001b[0;32m---> 34\u001b[0;31m     \u001b[0mprint\u001b[0m\u001b[0;34m(\u001b[0m\u001b[0mcleaned_information_text\u001b[0m\u001b[0;34m)\u001b[0m\u001b[0;34m\u001b[0m\u001b[0;34m\u001b[0m\u001b[0m\n\u001b[0m\u001b[1;32m     35\u001b[0m     \u001b[0mprint\u001b[0m\u001b[0;34m(\u001b[0m\u001b[0;34m\"Information not good\"\u001b[0m\u001b[0;34m)\u001b[0m\u001b[0;34m\u001b[0m\u001b[0;34m\u001b[0m\u001b[0m\n",
      "\u001b[0;31mNameError\u001b[0m: name 'cleaned_information_text' is not defined"
     ]
    }
   ],
   "source": [
    "#OCR 검증과정\n",
    "\n",
    "#이름검증 각종 문자열 및 공백 제거\n",
    "cleaned_name_text = ''.join(char for char in name_text[0][1] if char.isalnum())\n",
    "\n",
    "\n",
    "if 2 <= len(cleaned_name_text) <= 4:\n",
    "    print(cleaned_name_text)\n",
    "    print(\"Name good\")\n",
    "else:\n",
    "    print(cleaned_name_text)\n",
    "    print(\"Name not good\")\n",
    "print()\n",
    "\n",
    "#번호검증\n",
    "cleaned_number_text = ''.join(char for char in number_text[0][1] if char.isnumeric() or char == '+')\n",
    "\n",
    "# 길이가 11자리이고 010으로 시작하거나, 길이가 13자리이고 +82로 시작하는 경우에 \"OK\" 출력\n",
    "if (len(cleaned_number_text) == 11 and cleaned_number_text.startswith('010')) or (len(cleaned_number_text) == 13 and cleaned_number_text.startswith('+82')):\n",
    "    print(cleaned_number_text)\n",
    "    print(\"Number good\")\n",
    "else:\n",
    "    print(cleaned_number_text)\n",
    "    print(\"Number not good\")\n",
    "    \n",
    "print()\n",
    "\n",
    "#정보검증 각종 문자열 및 공백 제거\n",
    "if information_text:\n",
    "    cleaned_information_text = ''.join(char for char in information_text[0][1] if char.isalnum())\n",
    "    print(cleaned_information_text)\n",
    "    print(\"Information good\")\n",
    "else:\n",
    "    print(cleaned_information_text)\n",
    "    print(\"Information not good\")"
   ]
  },
  {
   "cell_type": "code",
   "execution_count": null,
   "id": "2d4e3ae4-c2e4-4fb6-860c-287f92f04fab",
   "metadata": {},
   "outputs": [],
   "source": [
    "from PIL import Image\n",
    "import matplotlib.pyplot as plt\n",
    "\n",
    "# 이미지 파일 경로들을 리스트에 저장\n",
    "image_paths = ['/home/tlrkrwlsmd/yolov5/runs/detect/exp8/business_Card_test.png',\n",
    "               # '/home/tlrkrwlsmd/yolov5/runs/detect/exp8/a2.PNG',\n",
    "               # '/home/tlrkrwlsmd/yolov5/runs/detect/exp8/a3.PNG',\n",
    "               # '/home/tlrkrwlsmd/yolov5/runs/detect/exp8/a6.PNG',\n",
    "               # '/home/tlrkrwlsmd/yolov5/runs/detect/exp8/a7.PNG',\n",
    "               # '/home/tlrkrwlsmd/yolov5/runs/detect/exp8/a8.PNG',\n",
    "               # '/home/tlrkrwlsmd/yolov5/runs/detect/exp8/a9.PNG',\n",
    "               # '/home/tlrkrwlsmd/yolov5/runs/detect/exp8/a10.PNG']\n",
    "\n",
    "# 이미지를 subplot으로 표시할 행과 열의 수 설정\n",
    "rows = 2\n",
    "cols = 4\n",
    "\n",
    "# subplot 생성\n",
    "fig, axes = plt.subplots(rows, cols, figsize=(12, 6))\n",
    "\n",
    "# 이미지를 읽어서 subplot에 표시\n",
    "for i, ax in enumerate(axes.flat):\n",
    "    # 이미지 불러오기\n",
    "    img_path = image_paths[i]\n",
    "    img = Image.open(img_path)\n",
    "\n",
    "    # 이미지 표시\n",
    "    ax.imshow(img)\n",
    "    ax.axis('off')  # 좌표 축 숨김\n",
    "    ax.set_title(f'Image {i+1}')  # 각 subplot에 제목 추가\n",
    "\n",
    "# 레이아웃 조정\n",
    "plt.tight_layout()\n",
    "\n",
    "# 이미지 저장\n",
    "plt.savefig('subplot_images.png', bbox_inches='tight', pad_inches=0.1)\n",
    "\n",
    "# 그래프 표시\n",
    "plt.show()"
   ]
  },
  {
   "cell_type": "code",
   "execution_count": null,
   "id": "2a102ccd-744b-4868-af08-f30600ff1b63",
   "metadata": {
    "tags": []
   },
   "outputs": [],
   "source": [
    "pwd"
   ]
  },
  {
   "cell_type": "code",
   "execution_count": null,
   "id": "59410ea6-d3f6-4143-bc40-799d611d9de1",
   "metadata": {
    "tags": []
   },
   "outputs": [],
   "source": [
    "plt.show()"
   ]
  },
  {
   "cell_type": "code",
   "execution_count": null,
   "id": "0edebdb7-a4db-43e6-acee-75ad494d8ae9",
   "metadata": {},
   "outputs": [],
   "source": [
    "from PIL import Image\n",
    "import matplotlib.pyplot as plt\n",
    "\n",
    "# 이미지 파일 경로들을 리스트에 저장\n",
    "image_paths = ['image1.jpg', 'image2.jpg', 'image3.jpg', 'image4.jpg', 'image5.jpg', 'image6.jpg', 'image7.jpg', 'image8.jpg']"
   ]
  }
 ],
 "metadata": {
  "kernelspec": {
   "display_name": "Python 3 (ipykernel)",
   "language": "python",
   "name": "python3"
  },
  "language_info": {
   "codemirror_mode": {
    "name": "ipython",
    "version": 3
   },
   "file_extension": ".py",
   "mimetype": "text/x-python",
   "name": "python",
   "nbconvert_exporter": "python",
   "pygments_lexer": "ipython3",
   "version": "3.7.7"
  }
 },
 "nbformat": 4,
 "nbformat_minor": 5
}
